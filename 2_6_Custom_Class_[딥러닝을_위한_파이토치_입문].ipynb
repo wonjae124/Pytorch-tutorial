{
  "nbformat": 4,
  "nbformat_minor": 0,
  "metadata": {
    "colab": {
      "name": "2.6 Class_[딥러닝을 위한 파이토치 입문]",
      "provenance": [],
      "collapsed_sections": [],
      "authorship_tag": "ABX9TyOPGGxZBRWqRThBx/HYRM71",
      "include_colab_link": true
    },
    "kernelspec": {
      "name": "python3",
      "display_name": "Python 3"
    },
    "language_info": {
      "name": "python"
    },
    "accelerator": "TPU"
  },
  "cells": [
    {
      "cell_type": "markdown",
      "metadata": {
        "id": "view-in-github",
        "colab_type": "text"
      },
      "source": [
        "<a href=\"https://colab.research.google.com/github/wonjae124/Pytorch-tutorial/blob/main/2_6_Custom_Class_%5B%EB%94%A5%EB%9F%AC%EB%8B%9D%EC%9D%84_%EC%9C%84%ED%95%9C_%ED%8C%8C%EC%9D%B4%ED%86%A0%EC%B9%98_%EC%9E%85%EB%AC%B8%5D.ipynb\" target=\"_parent\"><img src=\"https://colab.research.google.com/assets/colab-badge.svg\" alt=\"Open In Colab\"/></a>"
      ]
    },
    {
      "cell_type": "code",
      "execution_count": 9,
      "metadata": {
        "id": "N2zHgjwwzFPm"
      },
      "outputs": [],
      "source": [
        "import numpy as np\n",
        "\n",
        "class DataPreprocessing: # 첫 글자를 대문자로 만드는 것이 관례\n",
        "    def __init__(self, data, target):# 외부에서 data와 target 값을 전달 받는다. \n",
        "      self.data = data #변수에 self를 붙이면 이 클래스 내부에서 별도의 선언 없이 사용 할 수 있다.\n",
        "      self.target = target\n",
        "      self.num_instances = self.data.shape[0] \n",
        "      self.num_features = self.data.shape[1] \n",
        "    def minmax(self): # 클래스 내부의 함수는 매개인자로 self를 전달 받는다. 그러면 이 함수를 클래스 내부에서 별도의 선언 없이 자유롭게 슬 수 있다.\n",
        "      for i in range(self.num_features):# 클래스 내부의 함수(minmax, normalization)에 사용한다.\n",
        "        col = self.data[:,i]            # 별도의 변수가 필요없는 minmax 함수\n",
        "        self.data[:,i] = (self.data[:,i]-np.min(col))/(np.max(col)-np.min(col)) # 기존 값이 스케일링 된 값으로 대체되어 self.data가 열 기준으로 계산 된 0이상 1이하의 값을 가지게 된다.\n",
        "      return self #함수가 호출된 인스턴스 객체에 대한 참조를 반환(주소를 반환?????????????)\n",
        "    \n",
        "    def normalization(self):\n",
        "      for i in range(self.num_features):\n",
        "        col = self.data[:,i]\n",
        "        mu, sigma = np.mean(col), np.std(col)\n",
        "        self.data[:,i] = (self.data[:,i]-mu)/sigma\n",
        "      return self\n",
        "    \n",
        "    def scaler(self,scaling=None): # 스케일링 함수를 정의한다. scaling 매개인자는 default로 None으로 전달 받는다. \n",
        "      if scaling == 'minmax':      # 만약, data_processor.scaler()로 호출 되면 scaling은 None이므로 딱히 데이터 전처리 없이 다시 반환 된다.\n",
        "        self.minmax()\n",
        "      elif scaling == 'standard':\n",
        "        self.normalization()\n",
        "      else:\n",
        "        pass\n",
        "      return self.data"
      ]
    },
    {
      "cell_type": "code",
      "source": [
        "data = np.random.normal(0,10,(5,5))\n",
        "target = np.random.normal(0,1,5)\n",
        "print(data)\n",
        "data_processor = DataPreprocessing(data, target)\n",
        "data = data_processor.scaler('minmax')\n",
        "print(data)"
      ],
      "metadata": {
        "colab": {
          "base_uri": "https://localhost:8080/"
        },
        "id": "CZVOLZ0aAkUD",
        "outputId": "edc109c1-4a81-4c44-d19b-2606b5e3e7c5"
      },
      "execution_count": 10,
      "outputs": [
        {
          "output_type": "stream",
          "name": "stdout",
          "text": [
            "[[-27.56836152  -3.37331875 -17.30624389  -1.652012    15.24476915]\n",
            " [-13.18296585  -8.59958635  -1.8607054   26.16695297  -0.76698852]\n",
            " [ 28.56166281   2.61240999   3.30808606  -9.28775884  -3.94841874]\n",
            " [ 11.93326366  13.66125388  -2.957716   -13.69040388  -0.68085252]\n",
            " [ -9.86321738   0.52299502  -6.34731382  -9.6062526   12.47317383]]\n",
            "[[0.         0.23477405 0.         0.30203688 1.        ]\n",
            " [0.256287   0.         0.74926221 1.         0.1657583 ]\n",
            " [1.         0.50366456 1.         0.11046004 0.        ]\n",
            " [0.70375215 1.         0.69604629 0.         0.17024614]\n",
            " [0.3154309  0.409804   0.53161709 0.1024692  0.85559484]]\n"
          ]
        }
      ]
    },
    {
      "cell_type": "markdown",
      "source": [
        "# 클래스의 상속\n",
        "\n",
        "상속을 통해서 다른 클래스의 메서드(함수)를 모두 사용 할 수 있다."
      ],
      "metadata": {
        "id": "rmvnHHDqD56Y"
      }
    },
    {
      "cell_type": "code",
      "source": [
        "class DataPipeline(DataPreprocessing): #매개인자로 상속 받으려는 다른 클래스명을 기입한다.\n",
        "    def __init__(self,data): #매개인자에는 접근지정자를 사용 안한다.(self.data) 아니다.\n",
        "     self.data = data\n",
        "     self.num_features = self.data.shape[1]\n",
        "\n",
        "pipe = DataPipeline(data)\n",
        "data = pipe.scaler('minmax')\n"
      ],
      "metadata": {
        "id": "kpy-1yj9Dqgk"
      },
      "execution_count": 15,
      "outputs": []
    },
    {
      "cell_type": "code",
      "source": [
        "print(data)"
      ],
      "metadata": {
        "id": "dS6PxWKTDAJ0"
      },
      "execution_count": null,
      "outputs": []
    }
  ]
}