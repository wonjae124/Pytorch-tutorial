{
  "nbformat": 4,
  "nbformat_minor": 0,
  "metadata": {
    "colab": {
      "name": "5.6 모델구조 및 가중치확인",
      "provenance": [],
      "collapsed_sections": [],
      "authorship_tag": "ABX9TyMugEc9r9v01d4BOIRnDOK1",
      "include_colab_link": true
    },
    "kernelspec": {
      "name": "python3",
      "display_name": "Python 3"
    },
    "language_info": {
      "name": "python"
    }
  },
  "cells": [
    {
      "cell_type": "markdown",
      "metadata": {
        "id": "view-in-github",
        "colab_type": "text"
      },
      "source": [
        "<a href=\"https://colab.research.google.com/github/wonjae124/Pytorch-tutorial/blob/main/5_6_%EB%AA%A8%EB%8D%B8%EA%B5%AC%EC%A1%B0_%EB%B0%8F_%EA%B0%80%EC%A4%91%EC%B9%98%ED%99%95%EC%9D%B8.ipynb\" target=\"_parent\"><img src=\"https://colab.research.google.com/assets/colab-badge.svg\" alt=\"Open In Colab\"/></a>"
      ]
    },
    {
      "cell_type": "code",
      "execution_count": 1,
      "metadata": {
        "id": "SmJDZ827jF17"
      },
      "outputs": [],
      "source": [
        "import torch\n",
        "from torch import nn\n",
        "import torch.nn.functional as F\n",
        "from torchsummary import summary"
      ]
    },
    {
      "cell_type": "code",
      "source": [
        "# class는 반환하지 않는다.\n",
        "class Regressor(nn.Module):\n",
        "    def __init__(self):\n",
        "        super().__init__()\n",
        "        self.fc1 = nn.Linear(13,50) #가중치는 13*50 = 650개, 변수는 650+50 = 700\n",
        "        self.fc2 = nn.Linear(50,30) #가중치는 50*30 = 1500개, 변수는 1500+30 = 1530\n",
        "        self.fc3 = nn.Linear(30,1)  #가중치는 30*1 = 30개, 변수는 30+1 = 31개\n",
        "        self.dropout = nn.Dropout(0.5)\n",
        "\n",
        "    def forward(self, x):\n",
        "        x = F.relu(self.fc1(x))\n",
        "        x = self.dropout(F.relu(self.fc2(x)))\n",
        "        x = F.relu(self.fc3(x))\n",
        "    \n",
        "        return x"
      ],
      "metadata": {
        "id": "YBPm9OpCjUgm"
      },
      "execution_count": 2,
      "outputs": []
    },
    {
      "cell_type": "code",
      "source": [
        "model = Regressor() \n",
        "print(model)  #모델을 출력시키면 클래스에서 init 정의된 구조만 확인할 수 있다. "
      ],
      "metadata": {
        "colab": {
          "base_uri": "https://localhost:8080/"
        },
        "id": "7yF77c5CjyFK",
        "outputId": "9f86849a-3a5a-4598-b3dd-d94f5466fa81"
      },
      "execution_count": 4,
      "outputs": [
        {
          "output_type": "stream",
          "name": "stdout",
          "text": [
            "Regressor(\n",
            "  (fc1): Linear(in_features=13, out_features=50, bias=True)\n",
            "  (fc2): Linear(in_features=50, out_features=30, bias=True)\n",
            "  (fc3): Linear(in_features=30, out_features=1, bias=True)\n",
            "  (dropout): Dropout(p=0.5, inplace=False)\n",
            ")\n"
          ]
        }
      ]
    },
    {
      "cell_type": "code",
      "source": [
        "for parameter in model.parameters(): #model.parameters()를 통해서 init에서 정의한 순서대로 변수를 얻을 수 있다. 배열로 말이다.\n",
        "    print(parameter.size())"
      ],
      "metadata": {
        "colab": {
          "base_uri": "https://localhost:8080/"
        },
        "id": "Vegw1R_fkDbg",
        "outputId": "5695ff1c-1fa7-4c52-bc97-0dce6f872aab"
      },
      "execution_count": 10,
      "outputs": [
        {
          "output_type": "stream",
          "name": "stdout",
          "text": [
            "torch.Size([50, 13])\n",
            "torch.Size([50])\n",
            "torch.Size([30, 50])\n",
            "torch.Size([30])\n",
            "torch.Size([1, 30])\n",
            "torch.Size([1])\n"
          ]
        }
      ]
    },
    {
      "cell_type": "code",
      "source": [
        "print(model.fc1.weight.size(), model.fc1.bias.size()) # weight.size()를 통해서 파라미터(fc1)의 가중치를 불러올 수 있다. \n",
        "                                                      # bias.size()를 통해서 파라미터의 편향을 불러 올 수 있다."
      ],
      "metadata": {
        "colab": {
          "base_uri": "https://localhost:8080/"
        },
        "id": "ULColCe9kNV1",
        "outputId": "cb7e6b68-feb0-47aa-c597-7d82ec2f3308"
      },
      "execution_count": 11,
      "outputs": [
        {
          "output_type": "stream",
          "name": "stdout",
          "text": [
            "torch.Size([50, 13]) torch.Size([50])\n"
          ]
        }
      ]
    },
    {
      "cell_type": "code",
      "source": [
        "for name, param in model.named_parameters(): # model.named_parameters()로 모델의 변수명과 변수(가중치+편향)를 동시에 불러올 수 있다.\n",
        "    print(name, param.size())"
      ],
      "metadata": {
        "colab": {
          "base_uri": "https://localhost:8080/"
        },
        "id": "KQOYkTOGPDSo",
        "outputId": "a0e26af5-e22b-4ea4-9ec1-290096094672"
      },
      "execution_count": 12,
      "outputs": [
        {
          "output_type": "stream",
          "name": "stdout",
          "text": [
            "fc1.weight torch.Size([50, 13])\n",
            "fc1.bias torch.Size([50])\n",
            "fc2.weight torch.Size([30, 50])\n",
            "fc2.bias torch.Size([30])\n",
            "fc3.weight torch.Size([1, 30])\n",
            "fc3.bias torch.Size([1])\n"
          ]
        }
      ]
    },
    {
      "cell_type": "code",
      "source": [
        "summary(model, (1,13)) #torchsummary 패키지를 사용해서 model과 입력 데이터 사이즈를 넣어서 층마다의 출력 값의 크기와 변수에 대한 정보를 확인 가능하다."
      ],
      "metadata": {
        "colab": {
          "base_uri": "https://localhost:8080/"
        },
        "id": "9NO4ySDskBr-",
        "outputId": "778fb99a-6721-46e3-e978-e44d0fe4571c"
      },
      "execution_count": 14,
      "outputs": [
        {
          "output_type": "stream",
          "name": "stdout",
          "text": [
            "----------------------------------------------------------------\n",
            "        Layer (type)               Output Shape         Param #\n",
            "================================================================\n",
            "            Linear-1                [-1, 1, 50]             700\n",
            "            Linear-2                [-1, 1, 30]           1,530\n",
            "           Dropout-3                [-1, 1, 30]               0\n",
            "            Linear-4                 [-1, 1, 1]              31\n",
            "================================================================\n",
            "Total params: 2,261\n",
            "Trainable params: 2,261\n",
            "Non-trainable params: 0\n",
            "----------------------------------------------------------------\n",
            "Input size (MB): 0.00\n",
            "Forward/backward pass size (MB): 0.00\n",
            "Params size (MB): 0.01\n",
            "Estimated Total Size (MB): 0.01\n",
            "----------------------------------------------------------------\n"
          ]
        }
      ]
    }
  ]
}