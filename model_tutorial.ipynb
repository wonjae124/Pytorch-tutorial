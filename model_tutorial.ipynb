{
  "nbformat": 4,
  "nbformat_minor": 0,
  "metadata": {
    "colab": {
      "name": "model_tutorial",
      "provenance": [],
      "collapsed_sections": [],
      "authorship_tag": "ABX9TyNuZUOrLnnjZrxtc1p5ZKD3",
      "include_colab_link": true
    },
    "kernelspec": {
      "name": "python3",
      "display_name": "Python 3"
    },
    "language_info": {
      "name": "python"
    }
  },
  "cells": [
    {
      "cell_type": "markdown",
      "metadata": {
        "id": "view-in-github",
        "colab_type": "text"
      },
      "source": [
        "<a href=\"https://colab.research.google.com/github/wonjae124/Pytorch-tutorial/blob/main/model_tutorial.ipynb\" target=\"_parent\"><img src=\"https://colab.research.google.com/assets/colab-badge.svg\" alt=\"Open In Colab\"/></a>"
      ]
    },
    {
      "cell_type": "code",
      "source": [
        "import torch\n",
        "import torch.nn as nn\n"
      ],
      "metadata": {
        "id": "ZsNBSlbdoY7r"
      },
      "execution_count": 4,
      "outputs": []
    },
    {
      "cell_type": "code",
      "execution_count": 5,
      "metadata": {
        "colab": {
          "base_uri": "https://localhost:8080/"
        },
        "id": "UwIUouwJoWMp",
        "outputId": "eb921307-8ce7-4533-a3b6-54e8b2384755"
      },
      "outputs": [
        {
          "output_type": "execute_result",
          "data": {
            "text/plain": [
              "torch.Size([32, 10])"
            ]
          },
          "metadata": {},
          "execution_count": 5
        }
      ],
      "source": [
        "input = torch.randn(32, 1, 5, 5)\n",
        "\n",
        "m = nn.Sequential(\n",
        "    nn.Conv2d(1, 32, 5, 1, 1),\n",
        "    nn.Flatten(),\n",
        "    nn.Linear(288,10)\n",
        ")\n",
        "\n",
        "output = m(input)\n",
        "output.size()"
      ]
    },
    {
      "cell_type": "code",
      "source": [
        "m = nn.Sigmoid()\n",
        "input = torch.randn(2)\n",
        "output = m(input)"
      ],
      "metadata": {
        "id": "t9sDJU3buY3f"
      },
      "execution_count": 6,
      "outputs": []
    },
    {
      "cell_type": "code",
      "source": [
        "output"
      ],
      "metadata": {
        "colab": {
          "base_uri": "https://localhost:8080/"
        },
        "id": "uKQfb_E7uhTq",
        "outputId": "250738ef-a396-49d4-bb77-b6a1f02c8ce4"
      },
      "execution_count": 7,
      "outputs": [
        {
          "output_type": "execute_result",
          "data": {
            "text/plain": [
              "tensor([0.7388, 0.7840])"
            ]
          },
          "metadata": {},
          "execution_count": 7
        }
      ]
    },
    {
      "cell_type": "code",
      "source": [
        "m2 = nn.Softmax()\n",
        "output2 = m2(input)\n",
        "output2"
      ],
      "metadata": {
        "colab": {
          "base_uri": "https://localhost:8080/"
        },
        "id": "ZxgsUed2ujjN",
        "outputId": "33150ced-6e48-43e6-f665-8baa699440b3"
      },
      "execution_count": 9,
      "outputs": [
        {
          "output_type": "stream",
          "name": "stderr",
          "text": [
            "/usr/local/lib/python3.7/dist-packages/ipykernel_launcher.py:2: UserWarning: Implicit dimension choice for softmax has been deprecated. Change the call to include dim=X as an argument.\n",
            "  \n"
          ]
        },
        {
          "output_type": "execute_result",
          "data": {
            "text/plain": [
              "tensor([0.4379, 0.5621])"
            ]
          },
          "metadata": {},
          "execution_count": 9
        }
      ]
    },
    {
      "cell_type": "code",
      "source": [
        "import torch\n",
        "import torch.nn as nn\n",
        "\n",
        "device = torch.device('cuda' if torch.cuda.is_available() else \n",
        "'cpu')\n",
        "\n",
        "class Model(nn.Module):\n",
        "    def __init__(self):\n",
        "        super(Model, self).__init__()\n",
        "        self.layer = nn.Sequential(\n",
        "            nn.Conv2d(1, 16, kernel_size=3, stride=1, padding=1),\n",
        "            nn.BatchNorm2d(16),\n",
        "            nn.ReLU(),\n",
        "            nn.MaxPool2d(kernel_size=2, stride=2), # 16x16x650\n",
        "            nn.Conv2d(16, 32, kernel_size=3, stride=1, padding=1), # 32x16x650\n",
        "            nn.ReLU(),\n",
        "            nn.Dropout2d(0.5),\n",
        "            nn.Conv2d(32, 64, kernel_size=3, stride=1, padding=1), # 64x16x650\n",
        "            nn.ReLU(),\n",
        "            nn.MaxPool2d(kernel_size=2, stride=2), # 64x8x325\n",
        "            nn.Conv2d(64, 128, kernel_size=3, stride=1, padding=1),\n",
        "            nn.ReLU()) # 64x8x325\n",
        "\n",
        "        self.fc = nn.Sequential(\n",
        "            nn.Linear(64*8*325, 128),\n",
        "            nn.ReLU(),\n",
        "            nn.Linear(128, 256),\n",
        "            nn.ReLU(),\n",
        "            nn.Linear(256, 1),\n",
        "        )\n",
        "\n",
        "        def forward(self, x):\n",
        "            out = self.layer1(x)\n",
        "            out = self.layer2(out)\n",
        "            out = out.reshape(out.size(0), -1)\n",
        "            out = self.fc(out)\n",
        "            return out\n"
      ],
      "metadata": {
        "id": "doUd5IuCzsPO"
      },
      "execution_count": null,
      "outputs": []
    },
    {
      "cell_type": "code",
      "source": [
        "t = torch.tensor([ [[1, 2],\n",
        "                   [3, 4]],\n",
        "                   [[5, 6],\n",
        "                   [7, 8]]])\n",
        "\n",
        "print(t.shape)\n",
        "\n",
        "print('1',torch.flatten(t).shape)\n",
        "#tensor([1, 2, 3, 4, 5, 6, 7, 8])\n",
        "print('2-0',torch.flatten(t, start_dim=0, end_dim = -1).shape)\n",
        "print('2-1', torch.flatten(t, start_dim=0, end_dim = 0).shape)\n",
        "print('2-2', torch.flatten(t, start_dim=0, end_dim = 1).shape)\n",
        "print('2-3', torch.flatten(t, start_dim=0, end_dim = 2).shape,'\\n')\n",
        "\n",
        "\n",
        "print('3-0', torch.flatten(t, start_dim=1,end_dim=-1).shape)\n",
        "#print('3-1', torch.flatten(t, start_dim=1,end_dim=0).shape)\n",
        "print('3-2', torch.flatten(t, start_dim=1,end_dim=1).shape)\n",
        "print('3-3', torch.flatten(t, start_dim=1,end_dim=2).shape)\n",
        "\n",
        "#tensor([[1, 2, 3, 4], [5, 6, 7, 8]])\n",
        "print(torch.flatten(t, start_dim=2).shape)\n",
        "#print(torch.Unflatten(t))\n"
      ],
      "metadata": {
        "colab": {
          "base_uri": "https://localhost:8080/"
        },
        "id": "tG6uGVqc4B8P",
        "outputId": "07e8bb11-a42b-44ca-bd0d-54e30d784dac"
      },
      "execution_count": 51,
      "outputs": [
        {
          "output_type": "stream",
          "name": "stdout",
          "text": [
            "torch.Size([2, 2, 2])\n",
            "1 torch.Size([8])\n",
            "2-0 torch.Size([8])\n",
            "2-1 torch.Size([2, 2, 2])\n",
            "2-2 torch.Size([4, 2])\n",
            "2-3 torch.Size([8]) \n",
            "\n",
            "3-0 torch.Size([2, 4])\n",
            "3-2 torch.Size([2, 2, 2])\n",
            "3-3 torch.Size([2, 4])\n",
            "torch.Size([2, 2, 2])\n"
          ]
        }
      ]
    },
    {
      "cell_type": "code",
      "source": [
        " input = torch.randn(2, 50)\n",
        " # With tuple of ints\n",
        " m = nn.Sequential(\n",
        "     nn.Linear(50, 50),\n",
        "     nn.Unflatten(1, (2, 5, 5))\n",
        " )\n",
        " output = m(input)\n",
        " output.size()"
      ],
      "metadata": {
        "colab": {
          "base_uri": "https://localhost:8080/"
        },
        "id": "qpoKtkn05Hq_",
        "outputId": "7f75c594-1acc-4782-e380-aa66229b71a6"
      },
      "execution_count": 30,
      "outputs": [
        {
          "output_type": "execute_result",
          "data": {
            "text/plain": [
              "torch.Size([2, 2, 5, 5])"
            ]
          },
          "metadata": {},
          "execution_count": 30
        }
      ]
    },
    {
      "cell_type": "code",
      "source": [
        ""
      ],
      "metadata": {
        "id": "1_6PuezN4JAY"
      },
      "execution_count": null,
      "outputs": []
    }
  ]
}