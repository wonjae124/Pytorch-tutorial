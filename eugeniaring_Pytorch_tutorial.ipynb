{
  "nbformat": 4,
  "nbformat_minor": 0,
  "metadata": {
    "colab": {
      "name": "eugeniaring / Pytorch-tutorial",
      "provenance": [],
      "collapsed_sections": [],
      "authorship_tag": "ABX9TyP8DmbQ8iF+bUx6cT5/dLhu",
      "include_colab_link": true
    },
    "kernelspec": {
      "name": "python3",
      "display_name": "Python 3"
    },
    "language_info": {
      "name": "python"
    }
  },
  "cells": [
    {
      "cell_type": "markdown",
      "metadata": {
        "id": "view-in-github",
        "colab_type": "text"
      },
      "source": [
        "<a href=\"https://colab.research.google.com/github/wonjae124/Pytorch-tutorial/blob/main/eugeniaring_Pytorch_tutorial.ipynb\" target=\"_parent\"><img src=\"https://colab.research.google.com/assets/colab-badge.svg\" alt=\"Open In Colab\"/></a>"
      ]
    },
    {
      "cell_type": "code",
      "execution_count": 2,
      "metadata": {
        "colab": {
          "base_uri": "https://localhost:8080/"
        },
        "id": "ndFkOp6Idpa-",
        "outputId": "4a9f27aa-b071-4e26-8709-909b01b4b314"
      },
      "outputs": [
        {
          "output_type": "stream",
          "name": "stdout",
          "text": [
            "Tensor array:\n",
            "\n",
            " tensor([[1, 2, 3],\n",
            "        [4, 5, 6],\n",
            "        [7, 8, 9]])\n",
            "\n",
            " Numpy array: \n",
            "\n",
            " [[1 2 3]\n",
            " [4 5 6]\n",
            " [7 8 9]]\n"
          ]
        }
      ],
      "source": [
        "import torch\n",
        "torch_array = torch.tensor([[1,2,3],[4,5,6],[7,8,9]])\n",
        "print(\"Tensor array:\\n\\n\",torch_array)\n",
        "\n",
        "import numpy as np\n",
        "numpy_array = np.array([[1, 2, 3], [4, 5, 6], [7, 8, 9]])\n",
        "print(\"\\n Numpy array: \\n\\n\",numpy_array)\n",
        "\n"
      ]
    },
    {
      "cell_type": "code",
      "source": [
        "np_rand = np.random.rand(3,3)\n",
        "print(\"Random matrix with Numpy : \\n\")\n",
        "print(np_rand, \"\\n\")\n",
        "print(np_rand.shape)\n",
        "\n",
        "torch_rand = torch.rand(3,3)\n",
        "print(\"\\n Random matrix with Pytorch: \\n\")\n",
        "print(torch_rand,\"\\n\")\n",
        "print(torch_rand.shape)\n",
        "\n",
        "#numpy의 기본단위는 identity이지만 tensor의 기본단위는 eye이다."
      ],
      "metadata": {
        "colab": {
          "base_uri": "https://localhost:8080/"
        },
        "id": "pyl4pxWIeOZx",
        "outputId": "8578ea95-803e-45a0-e2e5-fbbca00707b7"
      },
      "execution_count": 4,
      "outputs": [
        {
          "output_type": "stream",
          "name": "stdout",
          "text": [
            "Random matrix with Numpy : \n",
            "\n",
            "[[0.64038338 0.48505205 0.28905143]\n",
            " [0.59688311 0.88562907 0.09028473]\n",
            " [0.05135432 0.99013898 0.23101317]] \n",
            "\n",
            "(3, 3)\n",
            "\n",
            " Random matrix with Pytorch: \n",
            "\n",
            "tensor([[0.4584, 0.5789, 0.0600],\n",
            "        [0.5608, 0.1561, 0.8447],\n",
            "        [0.6893, 0.4694, 0.0505]]) \n",
            "\n",
            "torch.Size([3, 3])\n"
          ]
        }
      ]
    },
    {
      "cell_type": "code",
      "source": [
        "np_zeros = np.zeros((3,3))\n",
        "print(np_zeros,'\\n')\n",
        "torch_zeros = torch.zeros(3,3)\n",
        "print(torch_zeros)"
      ],
      "metadata": {
        "colab": {
          "base_uri": "https://localhost:8080/"
        },
        "id": "CHAbMt7hezAr",
        "outputId": "4696a9bf-4565-4abd-cab6-9777a58a7640"
      },
      "execution_count": 6,
      "outputs": [
        {
          "output_type": "stream",
          "name": "stdout",
          "text": [
            "[[0. 0. 0.]\n",
            " [0. 0. 0.]\n",
            " [0. 0. 0.]] \n",
            "\n",
            "tensor([[0., 0., 0.],\n",
            "        [0., 0., 0.],\n",
            "        [0., 0., 0.]])\n"
          ]
        }
      ]
    },
    {
      "cell_type": "code",
      "source": [
        "np_ones = np.ones((3,3))\n",
        "print(np_ones,'\\n')\n",
        "torch_ones = torch.ones(3,3)\n",
        "print(torch_ones)"
      ],
      "metadata": {
        "colab": {
          "base_uri": "https://localhost:8080/"
        },
        "id": "nEeLutnmfjxd",
        "outputId": "fbb7a645-a4a8-4f30-cb03-f8e7ac71d899"
      },
      "execution_count": 8,
      "outputs": [
        {
          "output_type": "stream",
          "name": "stdout",
          "text": [
            "[[1. 1. 1.]\n",
            " [1. 1. 1.]\n",
            " [1. 1. 1.]] \n",
            "\n",
            "tensor([[1., 1., 1.],\n",
            "        [1., 1., 1.],\n",
            "        [1., 1., 1.]])\n"
          ]
        }
      ]
    },
    {
      "cell_type": "code",
      "source": [
        "np_id = np.identity(3)\n",
        "print(np_id,'\\n')\n",
        "torch_id = torch.eye(3)\n",
        "print(torch_id)"
      ],
      "metadata": {
        "colab": {
          "base_uri": "https://localhost:8080/"
        },
        "id": "IC2q8R0tfrUh",
        "outputId": "a7f60940-7bab-444d-bfba-40a7f8ac003b"
      },
      "execution_count": 9,
      "outputs": [
        {
          "output_type": "stream",
          "name": "stdout",
          "text": [
            "[[1. 0. 0.]\n",
            " [0. 1. 0.]\n",
            " [0. 0. 1.]] \n",
            "\n",
            "tensor([[1., 0., 0.],\n",
            "        [0., 1., 0.],\n",
            "        [0., 0., 1.]])\n"
          ]
        }
      ]
    },
    {
      "cell_type": "code",
      "source": [
        "np_a1 = np.array([[1,2,3],[4,5,6],[7,8,9]])\n",
        "np_a2 = np.array([[2,3],[2,3],[2,3]])\n",
        "print(np.dot(np_a1,np_a2),'\\n')\n",
        "\n",
        "#2dimension인 경우의 Matrix_multiplication\n",
        "torch_a1 = torch.tensor([[1,2,3],[4,5,6],[7,8,9]]) # 3X3\n",
        "torch_a2 = torch.tensor([[2,3],[2,3],[2,3]]) # 3X2 \n",
        "print(torch.mm(torch_a1,torch_a2)) # (3X3)*(3X2) = 3X2 "
      ],
      "metadata": {
        "colab": {
          "base_uri": "https://localhost:8080/"
        },
        "id": "yLqG1-43f2lZ",
        "outputId": "4c299d55-ac59-4791-93c4-c354bf77f4a5"
      },
      "execution_count": 11,
      "outputs": [
        {
          "output_type": "stream",
          "name": "stdout",
          "text": [
            "[[12 18]\n",
            " [30 45]\n",
            " [48 72]] \n",
            "\n",
            "tensor([[12, 18],\n",
            "        [30, 45],\n",
            "        [48, 72]])\n"
          ]
        }
      ]
    },
    {
      "cell_type": "code",
      "source": [
        "print(np.multiply(np_a1,2),'\\n')\n",
        "print(torch_a1*2)"
      ],
      "metadata": {
        "colab": {
          "base_uri": "https://localhost:8080/"
        },
        "id": "BxB5Q6b_gwiv",
        "outputId": "4a06578a-5572-4000-abde-408f43337bc3"
      },
      "execution_count": 12,
      "outputs": [
        {
          "output_type": "stream",
          "name": "stdout",
          "text": [
            "[[ 2  4  6]\n",
            " [ 8 10 12]\n",
            " [14 16 18]] \n",
            "\n",
            "tensor([[ 2,  4,  6],\n",
            "        [ 8, 10, 12],\n",
            "        [14, 16, 18]])\n"
          ]
        }
      ]
    },
    {
      "cell_type": "code",
      "source": [
        "torch_a1 = torch.from_numpy(np_a1)\n",
        "print(type(torch_a1))\n",
        "\n",
        "np_a1 = torch_a1.numpy()\n",
        "print(type(np_a1))"
      ],
      "metadata": {
        "colab": {
          "base_uri": "https://localhost:8080/"
        },
        "id": "FTBkESGPgww2",
        "outputId": "e0866f8d-a1e7-4b2f-db1c-aa0de84eb154"
      },
      "execution_count": 13,
      "outputs": [
        {
          "output_type": "stream",
          "name": "stdout",
          "text": [
            "<class 'torch.Tensor'>\n",
            "<class 'numpy.ndarray'>\n"
          ]
        }
      ]
    },
    {
      "cell_type": "code",
      "source": [
        "#Define operations\n",
        "\n",
        "x1 = torch.tensor([2.0], requires_grad=True).float()\n",
        "z1 = x1\n",
        "x2 = torch.tensor([2.0], requires_grad=True).float()\n",
        "z2 = x2**2\n",
        "x3 = torch.tensor([2.0], requires_grad=True).float()\n",
        "z3 = x3**3\n",
        "\n",
        "#Autograd\n",
        "z1.backward() # dz1/dx1 = 1\n",
        "z2.backward() # dz2/dx2 = 2*(x2)\n",
        "z3.backward() # dz3/dx3 = 3*  ( (x3)**2 ) \n",
        "\n",
        "\n",
        "print('dz1/dx1 evaluated in %f: %f'% (x1, x1.grad)) = 1\n",
        "print('dz2/dx2 evaluated in %f: %f'% (x2, x2.grad)) = 2*2 = 4 \n",
        "print('dz3/dx3 evaluated in %f: %f'% (x3, x3.grad)) = 3*(2**2) = 3*4 = 12\n"
      ],
      "metadata": {
        "colab": {
          "base_uri": "https://localhost:8080/"
        },
        "id": "yZt-eL4ehcBK",
        "outputId": "6e818e01-a4ca-48f4-d441-214549e66a62"
      },
      "execution_count": 16,
      "outputs": [
        {
          "output_type": "stream",
          "name": "stdout",
          "text": [
            "dz1/dx1 evaluated in 2.000000: 1.000000\n",
            "dz2/dx2 evaluated in 2.000000: 4.000000\n",
            "dz3/dx3 evaluated in 2.000000: 12.000000\n"
          ]
        }
      ]
    },
    {
      "cell_type": "code",
      "source": [
        "#1행 10열이면 10개의 뉴런을 가지고 있음\n",
        "\n",
        "import torch\n",
        "\n",
        "def sigm(x):\n",
        "    return 1/(1+torch.exp(-x))\n",
        "\n",
        "torch.manual_seed(7)\n",
        "\n",
        "inputs = torch.randn((1,10))\n",
        "w1 = torch.randn_like(inputs)\n",
        "b1 = torch.randn((1,1))\n",
        "#matmul(input,other)은 dot_product(스칼라 생성)이 가능한 matrix multipliaction임.\n",
        "output = sigm(torch.matmul(inputs, w1)+b1) "
      ],
      "metadata": {
        "colab": {
          "base_uri": "https://localhost:8080/",
          "height": 209
        },
        "id": "YLmczNFtoMgU",
        "outputId": "dfec59e7-ef96-40b2-ef88-019e3c2e4243"
      },
      "execution_count": 23,
      "outputs": [
        {
          "output_type": "error",
          "ename": "RuntimeError",
          "evalue": "ignored",
          "traceback": [
            "\u001b[0;31m---------------------------------------------------------------------------\u001b[0m",
            "\u001b[0;31mRuntimeError\u001b[0m                              Traceback (most recent call last)",
            "\u001b[0;32m<ipython-input-23-8739e8a29d74>\u001b[0m in \u001b[0;36m<module>\u001b[0;34m()\u001b[0m\n\u001b[1;32m     12\u001b[0m \u001b[0mb1\u001b[0m \u001b[0;34m=\u001b[0m \u001b[0mtorch\u001b[0m\u001b[0;34m.\u001b[0m\u001b[0mrandn\u001b[0m\u001b[0;34m(\u001b[0m\u001b[0;34m(\u001b[0m\u001b[0;36m1\u001b[0m\u001b[0;34m,\u001b[0m\u001b[0;36m1\u001b[0m\u001b[0;34m)\u001b[0m\u001b[0;34m)\u001b[0m\u001b[0;34m\u001b[0m\u001b[0;34m\u001b[0m\u001b[0m\n\u001b[1;32m     13\u001b[0m \u001b[0;34m\u001b[0m\u001b[0m\n\u001b[0;32m---> 14\u001b[0;31m \u001b[0moutput\u001b[0m \u001b[0;34m=\u001b[0m \u001b[0msigm\u001b[0m\u001b[0;34m(\u001b[0m\u001b[0mtorch\u001b[0m\u001b[0;34m.\u001b[0m\u001b[0mmatmul\u001b[0m\u001b[0;34m(\u001b[0m\u001b[0minputs\u001b[0m\u001b[0;34m,\u001b[0m \u001b[0mw1\u001b[0m\u001b[0;34m)\u001b[0m\u001b[0;34m+\u001b[0m\u001b[0mb1\u001b[0m\u001b[0;34m)\u001b[0m\u001b[0;34m\u001b[0m\u001b[0;34m\u001b[0m\u001b[0m\n\u001b[0m",
            "\u001b[0;31mRuntimeError\u001b[0m: mat1 and mat2 shapes cannot be multiplied (1x10 and 1x10)"
          ]
        }
      ]
    },
    {
      "cell_type": "code",
      "source": [
        "import torch\n",
        "\n",
        "def sigm(x):\n",
        "    return 1/(1+torch.exp(-x))\n",
        "    \n",
        "torch.manual_seed(7)\n",
        "\n",
        "inputs = torch.randn((1,10))\n",
        "w1 = torch.randn_like(inputs)\n",
        "b1 = torch.randn((1,1))\n",
        "\n",
        "output = sigm(torch.matmul(inputs,w1)+b1) #dotproduct"
      ],
      "metadata": {
        "colab": {
          "base_uri": "https://localhost:8080/",
          "height": 209
        },
        "id": "o9d6WuQgpSAx",
        "outputId": "16d4faf6-db4b-43a3-d66f-8007261231d0"
      },
      "execution_count": 24,
      "outputs": [
        {
          "output_type": "error",
          "ename": "RuntimeError",
          "evalue": "ignored",
          "traceback": [
            "\u001b[0;31m---------------------------------------------------------------------------\u001b[0m",
            "\u001b[0;31mRuntimeError\u001b[0m                              Traceback (most recent call last)",
            "\u001b[0;32m<ipython-input-24-ce6582a4c08d>\u001b[0m in \u001b[0;36m<module>\u001b[0;34m()\u001b[0m\n\u001b[1;32m     10\u001b[0m \u001b[0mb1\u001b[0m \u001b[0;34m=\u001b[0m \u001b[0mtorch\u001b[0m\u001b[0;34m.\u001b[0m\u001b[0mrandn\u001b[0m\u001b[0;34m(\u001b[0m\u001b[0;34m(\u001b[0m\u001b[0;36m1\u001b[0m\u001b[0;34m,\u001b[0m\u001b[0;36m1\u001b[0m\u001b[0;34m)\u001b[0m\u001b[0;34m)\u001b[0m\u001b[0;34m\u001b[0m\u001b[0;34m\u001b[0m\u001b[0m\n\u001b[1;32m     11\u001b[0m \u001b[0;34m\u001b[0m\u001b[0m\n\u001b[0;32m---> 12\u001b[0;31m \u001b[0moutput\u001b[0m \u001b[0;34m=\u001b[0m \u001b[0msigm\u001b[0m\u001b[0;34m(\u001b[0m\u001b[0mtorch\u001b[0m\u001b[0;34m.\u001b[0m\u001b[0mmatmul\u001b[0m\u001b[0;34m(\u001b[0m\u001b[0minputs\u001b[0m\u001b[0;34m,\u001b[0m\u001b[0mw1\u001b[0m\u001b[0;34m)\u001b[0m\u001b[0;34m+\u001b[0m\u001b[0mb1\u001b[0m\u001b[0;34m)\u001b[0m\u001b[0;34m\u001b[0m\u001b[0;34m\u001b[0m\u001b[0m\n\u001b[0m",
            "\u001b[0;31mRuntimeError\u001b[0m: mat1 and mat2 shapes cannot be multiplied (1x10 and 1x10)"
          ]
        }
      ]
    },
    {
      "cell_type": "code",
      "source": [
        "w1.reshape(10,1)\n",
        "output = sigm(torch.matmul(inputs,w1)+b1) #dotproduct\n",
        "\n",
        "w1.view(10,1)\n",
        "output = sigm(torch.matmul(inputs,w1)+b1)\n",
        "print(output) #return new tensor\n",
        "\n",
        "w1.resize_(10,1) #return same tensor\n",
        "\n",
        "print(w1)"
      ],
      "metadata": {
        "colab": {
          "base_uri": "https://localhost:8080/"
        },
        "id": "9gnbU7d1smmK",
        "outputId": "40edc15e-c63e-45d0-9113-d5c0d6b8c979"
      },
      "execution_count": 35,
      "outputs": [
        {
          "output_type": "stream",
          "name": "stdout",
          "text": [
            "tensor([[0.3030]])\n",
            "tensor([[0.3177],\n",
            "        [0.1328],\n",
            "        [0.1373],\n",
            "        [0.2405],\n",
            "        [1.3955],\n",
            "        [1.3470],\n",
            "        [2.4382],\n",
            "        [0.2028],\n",
            "        [2.4505],\n",
            "        [2.0256]])\n",
            "tensor([[0.3030]])\n",
            "tensor([[0.3177],\n",
            "        [0.1328],\n",
            "        [0.1373],\n",
            "        [0.2405],\n",
            "        [1.3955],\n",
            "        [1.3470],\n",
            "        [2.4382],\n",
            "        [0.2028],\n",
            "        [2.4505],\n",
            "        [2.0256]])\n",
            "tensor([[0.3177],\n",
            "        [0.1328],\n",
            "        [0.1373],\n",
            "        [0.2405],\n",
            "        [1.3955],\n",
            "        [1.3470],\n",
            "        [2.4382],\n",
            "        [0.2028],\n",
            "        [2.4505],\n",
            "        [2.0256]])\n"
          ]
        }
      ]
    },
    {
      "cell_type": "code",
      "source": [
        "print(w1.reshape(10,1).shape)"
      ],
      "metadata": {
        "colab": {
          "base_uri": "https://localhost:8080/"
        },
        "id": "6BPlimQPuxth",
        "outputId": "8ac82ba0-dbf5-49fa-cc4f-c8928a4e64d8"
      },
      "execution_count": 41,
      "outputs": [
        {
          "output_type": "stream",
          "name": "stdout",
          "text": [
            "torch.Size([10, 1])\n"
          ]
        }
      ]
    },
    {
      "cell_type": "code",
      "source": [
        "print(w1.view(10,1).shape)"
      ],
      "metadata": {
        "colab": {
          "base_uri": "https://localhost:8080/"
        },
        "id": "BR61cL4Yux_c",
        "outputId": "e0ba4a9d-eeec-4b3e-ea2c-903d15422628"
      },
      "execution_count": 40,
      "outputs": [
        {
          "output_type": "stream",
          "name": "stdout",
          "text": [
            "torch.Size([10, 1])\n"
          ]
        }
      ]
    },
    {
      "cell_type": "code",
      "source": [
        "print(w1.resize_(10,1).shape)"
      ],
      "metadata": {
        "colab": {
          "base_uri": "https://localhost:8080/"
        },
        "id": "7yu5hZ3Kucr5",
        "outputId": "6aca3966-696e-4432-f723-c3f19898c98d"
      },
      "execution_count": 42,
      "outputs": [
        {
          "output_type": "stream",
          "name": "stdout",
          "text": [
            "torch.Size([10, 1])\n"
          ]
        }
      ]
    },
    {
      "cell_type": "code",
      "source": [
        "import torch\n",
        "\n",
        "input_layer = torch.rand(10)\n",
        "print(input_layer.shape)"
      ],
      "metadata": {
        "colab": {
          "base_uri": "https://localhost:8080/"
        },
        "id": "37UeLub0vJDD",
        "outputId": "008677ab-8ca3-4fc1-f304-43cca810a870"
      },
      "execution_count": 48,
      "outputs": [
        {
          "output_type": "stream",
          "name": "stdout",
          "text": [
            "torch.Size([10])\n"
          ]
        }
      ]
    },
    {
      "cell_type": "code",
      "source": [
        "w1 = torch.rand(10,20)  # 10 by 20\n",
        "b1 = torch.rand(20) \n",
        "\n",
        "w2 = torch.rand(20,20)\n",
        "b2 = torch.rand(20)\n",
        "\n",
        "w3 = torch.rand(20,10)\n",
        "b3 = torch.rand(10)\n",
        "\n",
        "#1D인 input_layer는 행렬곱 이후의 결과에서 차원소멸\n",
        "\n",
        "h1 = torch.matmul(w1.T,input_layer)+b1 #w1. Transpose -> (20 by 10) X (10) = 20\n",
        "print(\"First hidden layer: \")\n",
        "print(h1, \"\\n\")\n",
        "\n",
        "h2 = torch.matmul(w2.T, h1)+b2 # 20 by 20 * 20 = 20\n",
        "print(\"Second hidden layer:\")\n",
        "print(h2,\"\\n\")\n",
        "\n",
        "output_layer = torch.matmul(w3.T, h2)+b3 # 10 by 20 * 20 = 10  \n",
        "print(\"Output layer:\")\n",
        "print(output_layer)"
      ],
      "metadata": {
        "colab": {
          "base_uri": "https://localhost:8080/"
        },
        "id": "B431N9AevJML",
        "outputId": "49810561-a8fe-438c-b659-ded41e0cb5e7"
      },
      "execution_count": 45,
      "outputs": [
        {
          "output_type": "stream",
          "name": "stdout",
          "text": [
            "First hidden layer: \n",
            "tensor([2.5463, 1.8689, 2.6849, 2.1683, 2.8530, 3.8888, 1.9605, 2.2965, 2.8485,\n",
            "        3.7596, 2.9201, 2.4318, 1.9947, 2.9652, 4.2126, 2.4276, 3.0956, 3.2615,\n",
            "        1.7022, 1.9546]) \n",
            "\n",
            "Second hidden layer:\n",
            "tensor([27.7413, 27.4422, 24.4510, 29.3651, 26.0638, 27.4231, 29.8157, 22.1262,\n",
            "        22.2745, 29.8625, 26.9475, 36.7071, 26.8643, 26.7665, 20.8730, 29.1281,\n",
            "        27.8653, 32.1158, 26.6047, 23.5480]) \n",
            "\n",
            "Output layer:\n",
            "tensor([291.9523, 252.2548, 277.2212, 251.4830, 202.9329, 263.9237, 296.7025,\n",
            "        355.4931, 236.1108, 291.9099])\n"
          ]
        }
      ]
    },
    {
      "cell_type": "code",
      "source": [
        "import torch\n",
        "import torch.nn as nn\n",
        "\n",
        "class Net(nn.Module):\n",
        "    def __init__(self):\n",
        "        super(Net,self).__init__()\n",
        "        self.fc1 = nn.Linear(10,20)\n",
        "        self.fc2 = nn.Linear(20,20)\n",
        "        self.out = nn.Linear(20,10)\n",
        "\n",
        "    def forward(self, x):\n",
        "        x = self.fc1(x)\n",
        "        x = self.fc2(x)\n",
        "        x = self.out(x)\n",
        "        return x\n",
        "\n",
        "input_layer = torch.rand(10)\n",
        "\n",
        "net = Net()\n",
        "result = net(input_layer)\n",
        "print(result)\n"
      ],
      "metadata": {
        "colab": {
          "base_uri": "https://localhost:8080/"
        },
        "id": "MTbLQ5Hv0I2k",
        "outputId": "4a612448-1b3c-4330-91a9-9bdf146a441c"
      },
      "execution_count": 56,
      "outputs": [
        {
          "output_type": "stream",
          "name": "stdout",
          "text": [
            "tensor([-0.1904,  0.0621,  0.3020,  0.2407, -0.1991, -0.2308, -0.2886, -0.1188,\n",
            "         0.1559, -0.0771], grad_fn=<AddBackward0>)\n"
          ]
        }
      ]
    }
  ]
}